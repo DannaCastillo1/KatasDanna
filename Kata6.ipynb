{
 "cells": [
  {
   "cell_type": "markdown",
   "metadata": {},
   "source": [
    "#EJERCICIOS"
   ]
  },
  {
   "cell_type": "code",
   "execution_count": 6,
   "metadata": {},
   "outputs": [
    {
     "name": "stdout",
     "output_type": "stream",
     "text": [
      "La cantidad de planetas es:  8 planetas\n",
      "Pluto Es el ultimo planeta\n",
      "Los planetas mas cercanos al son que Jupiter\n",
      "['Mercury', 'Venus', 'Earth', 'Mars']\n",
      "Los planetas mas lejanos al sol queJupiter\n",
      "['Saturn', 'Uranus', 'Neptune', 'Pluto']\n"
     ]
    }
   ],
   "source": [
    "planetas = ['Mercury', 'Venus', 'Earth', 'Mars', 'Jupiter', 'Saturn', 'Uranus', 'Neptune']\n",
    "\n",
    "print('La cantidad de planetas es: ', len(planetas), 'planetas')\n",
    "planetas.append('Pluto')\n",
    "\n",
    "print(planetas[-1], 'Es el ultimo planeta')\n",
    "\n",
    "user_planet = input('Introduce el nombre del planeta ')\n",
    "planet_index = planetas.index(user_planet)\n",
    "\n",
    "print('Los planetas mas cercanos al sol que ' + user_planet) \n",
    "print(planetas[0:planet_index])\n",
    "\n",
    "print('Los planetas mas lejanos al sol que  ' + user_planet)\n",
    "print(planetas[planet_index + 1:])\n"
   ]
  },
  {
   "cell_type": "code",
   "execution_count": null,
   "metadata": {},
   "outputs": [],
   "source": []
  }
 ],
 "metadata": {
  "interpreter": {
   "hash": "150a209df4f9331f17587ecdd8f725ec9e5102b1c410cb3239b9ac7b08cbbc1c"
  },
  "kernelspec": {
   "display_name": "Python 3.8.3 64-bit",
   "language": "python",
   "name": "python3"
  },
  "language_info": {
   "codemirror_mode": {
    "name": "ipython",
    "version": 3
   },
   "file_extension": ".py",
   "mimetype": "text/x-python",
   "name": "python",
   "nbconvert_exporter": "python",
   "pygments_lexer": "ipython3",
   "version": "3.8.3"
  },
  "orig_nbformat": 4
 },
 "nbformat": 4,
 "nbformat_minor": 2
}
